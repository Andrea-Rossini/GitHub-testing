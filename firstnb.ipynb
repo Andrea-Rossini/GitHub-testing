{
  "cells": [
    {
      "cell_type": "markdown",
      "metadata": {
        "id": "view-in-github",
        "colab_type": "text"
      },
      "source": [
        "<a href=\"https://colab.research.google.com/github/Andrea-Rossini/GitHub-testing/blob/main/firstnb.ipynb\" target=\"_parent\"><img src=\"https://colab.research.google.com/assets/colab-badge.svg\" alt=\"Open In Colab\"/></a>"
      ]
    },
    {
      "cell_type": "markdown",
      "metadata": {
        "id": "0tLiwR4aj7jC"
      },
      "source": [
        "#First Jupyter notebook on GitHub!"
      ]
    },
    {
      "cell_type": "markdown",
      "metadata": {
        "id": "JEjfD0D4j7jE"
      },
      "source": [
        "Just a simple Hello World for testing GitHub capabilities:"
      ]
    },
    {
      "cell_type": "code",
      "execution_count": null,
      "metadata": {
        "id": "4z7gRpFZj7jF",
        "outputId": "30272798-d916-4fd6-a1d7-747c5932007c"
      },
      "outputs": [
        {
          "name": "stdout",
          "output_type": "stream",
          "text": [
            "Hello World!\n"
          ]
        }
      ],
      "source": [
        "print(\"Hello World!\")"
      ]
    },
    {
      "cell_type": "markdown",
      "source": [
        "## This section has been inserted via Google Colab"
      ],
      "metadata": {
        "id": "Bd5XDnr7j9uh"
      }
    },
    {
      "cell_type": "code",
      "execution_count": null,
      "metadata": {
        "id": "fELtWGU_j7jH"
      },
      "outputs": [],
      "source": [
        "print(\"Hello GitHub, I'm from Colab!\")"
      ]
    }
  ],
  "metadata": {
    "kernelspec": {
      "display_name": "Python 3",
      "language": "python",
      "name": "python3"
    },
    "language_info": {
      "codemirror_mode": {
        "name": "ipython",
        "version": 3
      },
      "file_extension": ".py",
      "mimetype": "text/x-python",
      "name": "python",
      "nbconvert_exporter": "python",
      "pygments_lexer": "ipython3",
      "version": "3.8.3"
    },
    "colab": {
      "name": "firstnb.ipynb",
      "provenance": [],
      "include_colab_link": true
    }
  },
  "nbformat": 4,
  "nbformat_minor": 0
}